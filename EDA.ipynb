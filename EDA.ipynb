{
 "cells": [
  {
   "cell_type": "code",
   "execution_count": 51,
   "metadata": {},
   "outputs": [],
   "source": [
    "import numpy as np\n",
    "import pandas as pd\n",
    "from keras.preprocessing.text import Tokenizer\n",
    "\n",
    "%matplotlib inline"
   ]
  },
  {
   "cell_type": "markdown",
   "metadata": {},
   "source": [
    "Reading and preparing data."
   ]
  },
  {
   "cell_type": "code",
   "execution_count": 52,
   "metadata": {
    "collapsed": true
   },
   "outputs": [],
   "source": [
    "data_train = pd.read_csv('data/train.csv', index_col='id')\n",
    "data_test = pd.read_csv('data/test.csv', index_col='id')"
   ]
  },
  {
   "cell_type": "code",
   "execution_count": 53,
   "metadata": {
    "collapsed": true
   },
   "outputs": [],
   "source": [
    "documents = data_train['text'].tolist() + data_test['text'].tolist()"
   ]
  },
  {
   "cell_type": "code",
   "execution_count": 54,
   "metadata": {
    "collapsed": true
   },
   "outputs": [],
   "source": [
    "vocab_size = 2000 # number of words in dictionary\n",
    "tokenizer = Tokenizer(num_words=vocab_size)\n",
    "tokenizer.fit_on_texts(documents)"
   ]
  },
  {
   "cell_type": "code",
   "execution_count": 55,
   "metadata": {
    "collapsed": true
   },
   "outputs": [],
   "source": [
    "encoded_train_docs = tokenizer.texts_to_sequences(list(data_train['text']))\n",
    "encoded_test_docs = tokenizer.texts_to_sequences(list(data_test['text']))"
   ]
  },
  {
   "cell_type": "code",
   "execution_count": 56,
   "metadata": {},
   "outputs": [],
   "source": [
    "data_train['tokens'] = pd.Series(encoded_train_docs, index=data_train.index)\n",
    "data_test['tokens'] = pd.Series(encoded_test_docs, index=data_test.index)"
   ]
  },
  {
   "cell_type": "code",
   "execution_count": null,
   "metadata": {},
   "outputs": [],
   "source": [
    "# max_length = max(encoded_train_docs + encoded_test_docs, key=len)"
   ]
  },
  {
   "cell_type": "code",
   "execution_count": 57,
   "metadata": {},
   "outputs": [],
   "source": [
    "data_train['tokens_len'] = data_train['tokens'].apply(len)\n",
    "data_test['tokens_len'] = data_test['tokens'].apply(len)"
   ]
  },
  {
   "cell_type": "markdown",
   "metadata": {},
   "source": [
    "Displaying sequence length distribution."
   ]
  },
  {
   "cell_type": "code",
   "execution_count": 58,
   "metadata": {},
   "outputs": [
    {
     "data": {
      "text/plain": [
       "<matplotlib.axes._subplots.AxesSubplot at 0x7f6876dbe438>"
      ]
     },
     "execution_count": 58,
     "metadata": {},
     "output_type": "execute_result"
    },
    {
     "data": {
      "image/png": "[encoded data removed]",
      "text/plain": [
       "<matplotlib.figure.Figure at 0x7f685c14d438>"
      ]
     },
     "metadata": {},
     "output_type": "display_data"
    }
   ],
   "source": [
    "data_train.boxplot('tokens_len')"
   ]
  },
  {
   "cell_type": "code",
   "execution_count": 59,
   "metadata": {},
   "outputs": [
    {
     "data": {
      "text/plain": [
       "<matplotlib.axes._subplots.AxesSubplot at 0x7f6857aa19e8>"
      ]
     },
     "execution_count": 59,
     "metadata": {},
     "output_type": "execute_result"
    },
    {
     "data": {
      "image/png": "[encoded data removed]",
      "text/plain": [
       "<matplotlib.figure.Figure at 0x7f6857aa5c88>"
      ]
     },
     "metadata": {},
     "output_type": "display_data"
    }
   ],
   "source": [
    "data_test.boxplot('tokens_len')"
   ]
  },
  {
   "cell_type": "markdown",
   "metadata": {},
   "source": [
    "We see several extreme outliers above 200. Let's remove them."
   ]
  },
  {
   "cell_type": "code",
   "execution_count": 60,
   "metadata": {},
   "outputs": [
    {
     "data": {
      "text/plain": [
       "<matplotlib.axes._subplots.AxesSubplot at 0x7f6857a43dd8>"
      ]
     },
     "execution_count": 60,
     "metadata": {},
     "output_type": "execute_result"
    },
    {
     "data": {
      "image/png": "[encoded data removed]",
      "text/plain": [
       "<matplotlib.figure.Figure at 0x7f685c0d5b00>"
      ]
     },
     "metadata": {},
     "output_type": "display_data"
    }
   ],
   "source": [
    "data_train[data_train['tokens_len'] < 200].boxplot('tokens_len')"
   ]
  },
  {
   "cell_type": "code",
   "execution_count": 61,
   "metadata": {},
   "outputs": [
    {
     "data": {
      "text/plain": [
       "<matplotlib.axes._subplots.AxesSubplot at 0x7f68579c2438>"
      ]
     },
     "execution_count": 61,
     "metadata": {},
     "output_type": "execute_result"
    },
    {
     "data": {
      "image/png": "[encoded data removed]",
      "text/plain": [
       "<matplotlib.figure.Figure at 0x7f6857991fd0>"
      ]
     },
     "metadata": {},
     "output_type": "display_data"
    }
   ],
   "source": [
    "data_test[data_test['tokens_len'] < 200].boxplot('tokens_len')"
   ]
  },
  {
   "cell_type": "markdown",
   "metadata": {},
   "source": [
    "It's reasonable to reduce length of sequence to 70 tokens. For dirty model let's just discard outliers."
   ]
  },
  {
   "cell_type": "code",
   "execution_count": 62,
   "metadata": {
    "collapsed": true
   },
   "outputs": [],
   "source": [
    "max_length = 70\n",
    "data_train = data_train[data_train['tokens_len'] <= max_length]\n",
    "data_test = data_test[data_test['tokens_len'] <= max_length]"
   ]
  },
  {
   "cell_type": "code",
   "execution_count": 44,
   "metadata": {},
   "outputs": [
    {
     "data": {
      "text/plain": [
       "<matplotlib.axes._subplots.AxesSubplot at 0x7f685c228198>"
      ]
     },
     "execution_count": 44,
     "metadata": {},
     "output_type": "execute_result"
    },
    {
     "data": {
      "image/png": "[encoded data removed]",
      "text/plain": [
       "<matplotlib.figure.Figure at 0x7f685c1f9d30>"
      ]
     },
     "metadata": {},
     "output_type": "display_data"
    }
   ],
   "source": [
    "data_train.boxplot('tokens_len')"
   ]
  },
  {
   "cell_type": "code",
   "execution_count": 63,
   "metadata": {},
   "outputs": [
    {
     "data": {
      "text/plain": [
       "<matplotlib.axes._subplots.AxesSubplot at 0x7f6857502240>"
      ]
     },
     "execution_count": 63,
     "metadata": {},
     "output_type": "execute_result"
    },
    {
     "data": {
      "image/png": "[encoded data removed]",
      "text/plain": [
       "<matplotlib.figure.Figure at 0x7f68576cd8d0>"
      ]
     },
     "metadata": {},
     "output_type": "display_data"
    }
   ],
   "source": [
    "data_test.boxplot('tokens_len')"
   ]
  },
  {
   "cell_type": "markdown",
   "metadata": {},
   "source": [
    "Looks better."
   ]
  },
  {
   "cell_type": "code",
   "execution_count": 47,
   "metadata": {},
   "outputs": [
    {
     "data": {
      "text/html": [
       "<div>\n",
       "<table border=\"1\" class=\"dataframe\">\n",
       "  <thead>\n",
       "    <tr style=\"text-align: right;\">\n",
       "      <th></th>\n",
       "      <th>text</th>\n",
       "      <th>author</th>\n",
       "      <th>tokens</th>\n",
       "      <th>tokens_len</th>\n",
       "    </tr>\n",
       "    <tr>\n",
       "      <th>id</th>\n",
       "      <th></th>\n",
       "      <th></th>\n",
       "      <th></th>\n",
       "      <th></th>\n",
       "    </tr>\n",
       "  </thead>\n",
       "  <tbody>\n",
       "    <tr>\n",
       "      <th>id26305</th>\n",
       "      <td>This process, however, afforded me no means of...</td>\n",
       "      <td>EAP</td>\n",
       "      <td>[26, 3334, 139, 1295, 22, 36, 285, 2, 6426, 1,...</td>\n",
       "      <td>41</td>\n",
       "    </tr>\n",
       "    <tr>\n",
       "      <th>id17569</th>\n",
       "      <td>It never once occurred to me that the fumbling...</td>\n",
       "      <td>HPL</td>\n",
       "      <td>[11, 90, 128, 725, 4, 22, 9, 1, 5966, 80, 28, ...</td>\n",
       "      <td>14</td>\n",
       "    </tr>\n",
       "    <tr>\n",
       "      <th>id11008</th>\n",
       "      <td>In his left hand was a gold snuff box, from wh...</td>\n",
       "      <td>EAP</td>\n",
       "      <td>[7, 15, 154, 173, 8, 6, 694, 5967, 560, 24, 19...</td>\n",
       "      <td>36</td>\n",
       "    </tr>\n",
       "    <tr>\n",
       "      <th>id27763</th>\n",
       "      <td>How lovely is spring As we looked from Windsor...</td>\n",
       "      <td>MWS</td>\n",
       "      <td>[120, 568, 25, 766, 16, 34, 216, 24, 754, 4176...</td>\n",
       "      <td>34</td>\n",
       "    </tr>\n",
       "    <tr>\n",
       "      <th>id12958</th>\n",
       "      <td>Finding nothing else, not even gold, the Super...</td>\n",
       "      <td>HPL</td>\n",
       "      <td>[1229, 160, 735, 20, 75, 694, 1, 5214, 1464, 1...</td>\n",
       "      <td>27</td>\n",
       "    </tr>\n",
       "    <tr>\n",
       "      <th>id09674</th>\n",
       "      <td>The astronomer, perhaps, at this point, took r...</td>\n",
       "      <td>EAP</td>\n",
       "      <td>[1, 8416, 237, 21, 26, 263, 214, 3102, 7, 1, 1...</td>\n",
       "      <td>21</td>\n",
       "    </tr>\n",
       "    <tr>\n",
       "      <th>id13515</th>\n",
       "      <td>The surcingle hung in ribands from my body.</td>\n",
       "      <td>EAP</td>\n",
       "      <td>[1, 9364, 698, 7, 18845, 24, 10, 225]</td>\n",
       "      <td>8</td>\n",
       "    </tr>\n",
       "    <tr>\n",
       "      <th>id00912</th>\n",
       "      <td>I confess that neither the structure of langua...</td>\n",
       "      <td>MWS</td>\n",
       "      <td>[5, 1689, 9, 484, 1, 2592, 2, 4644, 183, 1, 93...</td>\n",
       "      <td>23</td>\n",
       "    </tr>\n",
       "    <tr>\n",
       "      <th>id16737</th>\n",
       "      <td>He shall find that I can feel my injuries; he ...</td>\n",
       "      <td>MWS</td>\n",
       "      <td>[14, 140, 232, 9, 5, 118, 297, 10, 5970, 14, 1...</td>\n",
       "      <td>22</td>\n",
       "    </tr>\n",
       "    <tr>\n",
       "      <th>id16607</th>\n",
       "      <td>Here we barricaded ourselves, and, for the pre...</td>\n",
       "      <td>EAP</td>\n",
       "      <td>[124, 34, 14665, 1023, 3, 17, 1, 279, 29, 1657]</td>\n",
       "      <td>10</td>\n",
       "    </tr>\n",
       "    <tr>\n",
       "      <th>id19764</th>\n",
       "      <td>Herbert West needed fresh bodies because his l...</td>\n",
       "      <td>HPL</td>\n",
       "      <td>[3469, 389, 2877, 680, 880, 275, 15, 91, 340, ...</td>\n",
       "      <td>15</td>\n",
       "    </tr>\n",
       "    <tr>\n",
       "      <th>id18886</th>\n",
       "      <td>The farm like grounds extended back very deepl...</td>\n",
       "      <td>HPL</td>\n",
       "      <td>[1, 6940, 81, 2694, 1828, 168, 61, 1128, 66, 1...</td>\n",
       "      <td>15</td>\n",
       "    </tr>\n",
       "    <tr>\n",
       "      <th>id17189</th>\n",
       "      <td>But a glance will show the fallacy of this idea.</td>\n",
       "      <td>EAP</td>\n",
       "      <td>[18, 6, 1007, 62, 1659, 1, 14666, 2, 26, 249]</td>\n",
       "      <td>10</td>\n",
       "    </tr>\n",
       "    <tr>\n",
       "      <th>id12799</th>\n",
       "      <td>He had escaped me, and I must commence a destr...</td>\n",
       "      <td>MWS</td>\n",
       "      <td>[14, 12, 1141, 22, 3, 5, 84, 2695, 6, 5587, 3,...</td>\n",
       "      <td>47</td>\n",
       "    </tr>\n",
       "    <tr>\n",
       "      <th>id08441</th>\n",
       "      <td>To these speeches they gave, of course, their ...</td>\n",
       "      <td>EAP</td>\n",
       "      <td>[4, 67, 5972, 42, 207, 2, 247, 51, 111, 6428, ...</td>\n",
       "      <td>61</td>\n",
       "    </tr>\n",
       "    <tr>\n",
       "      <th>id13117</th>\n",
       "      <td>Her native sprightliness needed no undue excit...</td>\n",
       "      <td>MWS</td>\n",
       "      <td>[30, 716, 18852, 2877, 36, 6430, 1157, 3, 30, ...</td>\n",
       "      <td>28</td>\n",
       "    </tr>\n",
       "    <tr>\n",
       "      <th>id14862</th>\n",
       "      <td>I even went so far as to speak of a slightly h...</td>\n",
       "      <td>EAP</td>\n",
       "      <td>[5, 75, 233, 40, 137, 16, 4, 355, 2, 6, 1617, ...</td>\n",
       "      <td>48</td>\n",
       "    </tr>\n",
       "    <tr>\n",
       "      <th>id20836</th>\n",
       "      <td>His facial aspect, too, was remarkable for its...</td>\n",
       "      <td>HPL</td>\n",
       "      <td>[15, 7612, 1085, 132, 8, 867, 17, 47, 3471, 17...</td>\n",
       "      <td>48</td>\n",
       "    </tr>\n",
       "    <tr>\n",
       "      <th>id11411</th>\n",
       "      <td>Now the net work was not permanently fastened ...</td>\n",
       "      <td>EAP</td>\n",
       "      <td>[52, 1, 4902, 340, 8, 20, 7613, 2152, 4, 1, 49...</td>\n",
       "      <td>21</td>\n",
       "    </tr>\n",
       "    <tr>\n",
       "      <th>id08075</th>\n",
       "      <td>It was not that the sounds were hideous, for t...</td>\n",
       "      <td>HPL</td>\n",
       "      <td>[11, 8, 20, 9, 1, 590, 29, 408, 17, 42, 29, 20...</td>\n",
       "      <td>44</td>\n",
       "    </tr>\n",
       "    <tr>\n",
       "      <th>id18925</th>\n",
       "      <td>On every hand was a wilderness of balconies, o...</td>\n",
       "      <td>EAP</td>\n",
       "      <td>[27, 101, 173, 8, 6, 3472, 2, 14668, 2, 18859,...</td>\n",
       "      <td>18</td>\n",
       "    </tr>\n",
       "    <tr>\n",
       "      <th>id01704</th>\n",
       "      <td>These bizarre attempts at explanation were fol...</td>\n",
       "      <td>EAP</td>\n",
       "      <td>[67, 2698, 2210, 21, 1618, 29, 458, 23, 341, 1...</td>\n",
       "      <td>11</td>\n",
       "    </tr>\n",
       "    <tr>\n",
       "      <th>id10125</th>\n",
       "      <td>For many prodigies and signs had taken place, ...</td>\n",
       "      <td>EAP</td>\n",
       "      <td>[17, 113, 7615, 3, 1356, 12, 310, 149, 3, 137,...</td>\n",
       "      <td>25</td>\n",
       "    </tr>\n",
       "    <tr>\n",
       "      <th>id23451</th>\n",
       "      <td>I seemed to be upon the verge of comprehension...</td>\n",
       "      <td>EAP</td>\n",
       "      <td>[5, 98, 4, 28, 44, 1, 3810, 2, 3336, 136, 286,...</td>\n",
       "      <td>31</td>\n",
       "    </tr>\n",
       "    <tr>\n",
       "      <th>id27907</th>\n",
       "      <td>Our compasses, depth gauges, and other delicat...</td>\n",
       "      <td>HPL</td>\n",
       "      <td>[55, 18866, 1830, 18867, 3, 95, 1324, 1585, 29...</td>\n",
       "      <td>45</td>\n",
       "    </tr>\n",
       "    <tr>\n",
       "      <th>id08121</th>\n",
       "      <td>This the young warriors took back with them to...</td>\n",
       "      <td>HPL</td>\n",
       "      <td>[26, 1, 238, 12204, 214, 168, 13, 63, 4, 2510,...</td>\n",
       "      <td>30</td>\n",
       "    </tr>\n",
       "    <tr>\n",
       "      <th>id15222</th>\n",
       "      <td>Meantime the whole Paradise of Arnheim bursts ...</td>\n",
       "      <td>EAP</td>\n",
       "      <td>[1051, 1, 165, 2153, 2, 10616, 10617, 44, 1, 374]</td>\n",
       "      <td>10</td>\n",
       "    </tr>\n",
       "    <tr>\n",
       "      <th>id00764</th>\n",
       "      <td>I was rich and young, and had a guardian appoi...</td>\n",
       "      <td>MWS</td>\n",
       "      <td>[5, 8, 1052, 3, 238, 3, 12, 6, 3980, 4180, 17,...</td>\n",
       "      <td>43</td>\n",
       "    </tr>\n",
       "    <tr>\n",
       "      <th>id00683</th>\n",
       "      <td>We could make out little by the dim light, but...</td>\n",
       "      <td>MWS</td>\n",
       "      <td>[34, 46, 187, 74, 104, 23, 1, 1025, 158, 18, 4...</td>\n",
       "      <td>48</td>\n",
       "    </tr>\n",
       "    <tr>\n",
       "      <th>id11733</th>\n",
       "      <td>Even now They talked in Their tombs.</td>\n",
       "      <td>HPL</td>\n",
       "      <td>[75, 52, 42, 950, 7, 51, 3474]</td>\n",
       "      <td>7</td>\n",
       "    </tr>\n",
       "    <tr>\n",
       "      <th>...</th>\n",
       "      <td>...</td>\n",
       "      <td>...</td>\n",
       "      <td>...</td>\n",
       "      <td>...</td>\n",
       "    </tr>\n",
       "    <tr>\n",
       "      <th>id20955</th>\n",
       "      <td>But it was not so; I was the same in strength,...</td>\n",
       "      <td>MWS</td>\n",
       "      <td>[18, 11, 8, 20, 40, 5, 8, 1, 177, 7, 600, 7, 1...</td>\n",
       "      <td>22</td>\n",
       "    </tr>\n",
       "    <tr>\n",
       "      <th>id01270</th>\n",
       "      <td>He then took the book himself, and read me a c...</td>\n",
       "      <td>EAP</td>\n",
       "      <td>[14, 65, 214, 1, 625, 150, 3, 370, 22, 6, 1591...</td>\n",
       "      <td>12</td>\n",
       "    </tr>\n",
       "    <tr>\n",
       "      <th>id22290</th>\n",
       "      <td>\"Adolphe Le Bon, clerk to Mignaud et Fils, dep...</td>\n",
       "      <td>EAP</td>\n",
       "      <td>[16338, 1163, 6712, 6520, 4, 10126, 2687, 1602...</td>\n",
       "      <td>32</td>\n",
       "    </tr>\n",
       "    <tr>\n",
       "      <th>id20272</th>\n",
       "      <td>But of the character of his remarks at the per...</td>\n",
       "      <td>EAP</td>\n",
       "      <td>[18, 2, 1, 396, 2, 15, 6867, 21, 1, 4209, 7, 3...</td>\n",
       "      <td>19</td>\n",
       "    </tr>\n",
       "    <tr>\n",
       "      <th>id18082</th>\n",
       "      <td>He notes every variation of face as the play p...</td>\n",
       "      <td>EAP</td>\n",
       "      <td>[14, 1471, 101, 5577, 2, 235, 16, 1, 1132, 263...</td>\n",
       "      <td>30</td>\n",
       "    </tr>\n",
       "    <tr>\n",
       "      <th>id07976</th>\n",
       "      <td>They admitted they had been drunk, but both vo...</td>\n",
       "      <td>HPL</td>\n",
       "      <td>[42, 1333, 42, 12, 43, 3846, 18, 288, 4066, 42...</td>\n",
       "      <td>21</td>\n",
       "    </tr>\n",
       "    <tr>\n",
       "      <th>id26741</th>\n",
       "      <td>The rays of the newly risen sun poured in upon...</td>\n",
       "      <td>EAP</td>\n",
       "      <td>[1, 1315, 2, 1, 3180, 3129, 293, 1755, 7, 44, ...</td>\n",
       "      <td>24</td>\n",
       "    </tr>\n",
       "    <tr>\n",
       "      <th>id26698</th>\n",
       "      <td>To the north on the craggy precipice a few pac...</td>\n",
       "      <td>EAP</td>\n",
       "      <td>[4, 1, 549, 27, 1, 10222, 3443, 6, 156, 4512, ...</td>\n",
       "      <td>48</td>\n",
       "    </tr>\n",
       "    <tr>\n",
       "      <th>id22265</th>\n",
       "      <td>The frauds of the banks of course I couldn't h...</td>\n",
       "      <td>EAP</td>\n",
       "      <td>[1, 16734, 2, 1, 2024, 2, 247, 5, 3303, 686]</td>\n",
       "      <td>10</td>\n",
       "    </tr>\n",
       "    <tr>\n",
       "      <th>id14778</th>\n",
       "      <td>He was attired, as I had expected, in a costum...</td>\n",
       "      <td>EAP</td>\n",
       "      <td>[14, 8, 8477, 16, 5, 12, 699, 7, 6, 5763, 469,...</td>\n",
       "      <td>33</td>\n",
       "    </tr>\n",
       "    <tr>\n",
       "      <th>id18823</th>\n",
       "      <td>When a fumbling came in the nearer casements h...</td>\n",
       "      <td>HPL</td>\n",
       "      <td>[41, 6, 5966, 117, 7, 1, 1602, 9827, 14, 2421,...</td>\n",
       "      <td>25</td>\n",
       "    </tr>\n",
       "    <tr>\n",
       "      <th>id00893</th>\n",
       "      <td>But then there is the tone laconic, or curt, w...</td>\n",
       "      <td>EAP</td>\n",
       "      <td>[18, 65, 45, 25, 1, 977, 11897, 35, 17040, 19,...</td>\n",
       "      <td>16</td>\n",
       "    </tr>\n",
       "    <tr>\n",
       "      <th>id08678</th>\n",
       "      <td>Average people in society and business New Eng...</td>\n",
       "      <td>HPL</td>\n",
       "      <td>[4205, 287, 7, 664, 3, 630, 184, 8609, 14587, ...</td>\n",
       "      <td>45</td>\n",
       "    </tr>\n",
       "    <tr>\n",
       "      <th>id10857</th>\n",
       "      <td>The modes and sources of this kind of error ar...</td>\n",
       "      <td>EAP</td>\n",
       "      <td>[1, 3832, 3, 4108, 2, 26, 266, 2, 2183, 56, 11...</td>\n",
       "      <td>19</td>\n",
       "    </tr>\n",
       "    <tr>\n",
       "      <th>id10563</th>\n",
       "      <td>Yet from whom has not that rude hand rent away...</td>\n",
       "      <td>MWS</td>\n",
       "      <td>[76, 24, 230, 108, 20, 9, 4584, 173, 3326, 179...</td>\n",
       "      <td>13</td>\n",
       "    </tr>\n",
       "    <tr>\n",
       "      <th>id11752</th>\n",
       "      <td>Almighty God no, no They heard they suspected ...</td>\n",
       "      <td>EAP</td>\n",
       "      <td>[7533, 372, 36, 36, 42, 143, 42, 1743, 42, 182...</td>\n",
       "      <td>25</td>\n",
       "    </tr>\n",
       "    <tr>\n",
       "      <th>id26214</th>\n",
       "      <td>I hope you have not been so foolish as to take...</td>\n",
       "      <td>EAP</td>\n",
       "      <td>[5, 251, 33, 31, 20, 43, 40, 4006, 16, 4, 234,...</td>\n",
       "      <td>23</td>\n",
       "    </tr>\n",
       "    <tr>\n",
       "      <th>id00832</th>\n",
       "      <td>These reflections made our legislators pause, ...</td>\n",
       "      <td>MWS</td>\n",
       "      <td>[67, 1823, 92, 55, 18492, 1380, 69, 42, 46, 43...</td>\n",
       "      <td>18</td>\n",
       "    </tr>\n",
       "    <tr>\n",
       "      <th>id04187</th>\n",
       "      <td>Because there were some considerations of deep...</td>\n",
       "      <td>EAP</td>\n",
       "      <td>[275, 45, 29, 54, 3452, 2, 262, 412, 202]</td>\n",
       "      <td>9</td>\n",
       "    </tr>\n",
       "    <tr>\n",
       "      <th>id22378</th>\n",
       "      <td>Before going in we walked up the street, turne...</td>\n",
       "      <td>EAP</td>\n",
       "      <td>[69, 741, 7, 34, 835, 66, 1, 265, 276, 119, 37...</td>\n",
       "      <td>47</td>\n",
       "    </tr>\n",
       "    <tr>\n",
       "      <th>id26790</th>\n",
       "      <td>Once my fancy was soothed with dreams of virtu...</td>\n",
       "      <td>MWS</td>\n",
       "      <td>[128, 10, 544, 8, 3916, 13, 327, 2, 2074, 2, 3...</td>\n",
       "      <td>14</td>\n",
       "    </tr>\n",
       "    <tr>\n",
       "      <th>id14263</th>\n",
       "      <td>Nay, you may have met with another whom you ma...</td>\n",
       "      <td>MWS</td>\n",
       "      <td>[2557, 33, 123, 31, 563, 13, 210, 230, 33, 123...</td>\n",
       "      <td>37</td>\n",
       "    </tr>\n",
       "    <tr>\n",
       "      <th>id14420</th>\n",
       "      <td>My watch was still going, and told me that the...</td>\n",
       "      <td>HPL</td>\n",
       "      <td>[10, 852, 8, 106, 741, 3, 228, 22, 9, 1, 305, ...</td>\n",
       "      <td>14</td>\n",
       "    </tr>\n",
       "    <tr>\n",
       "      <th>id03325</th>\n",
       "      <td>But these and other difficulties attending res...</td>\n",
       "      <td>EAP</td>\n",
       "      <td>[18, 67, 3, 95, 4029, 2492, 4846, 16, 42, 29, ...</td>\n",
       "      <td>51</td>\n",
       "    </tr>\n",
       "    <tr>\n",
       "      <th>id07567</th>\n",
       "      <td>Stress of weather drove us up the Adriatic Gul...</td>\n",
       "      <td>MWS</td>\n",
       "      <td>[11871, 2, 1450, 2529, 85, 66, 1, 26377, 9226,...</td>\n",
       "      <td>27</td>\n",
       "    </tr>\n",
       "    <tr>\n",
       "      <th>id17718</th>\n",
       "      <td>I could have fancied, while I looked at it, th...</td>\n",
       "      <td>EAP</td>\n",
       "      <td>[5, 46, 31, 1055, 100, 5, 216, 21, 11, 9, 54, ...</td>\n",
       "      <td>20</td>\n",
       "    </tr>\n",
       "    <tr>\n",
       "      <th>id08973</th>\n",
       "      <td>The lids clenched themselves together as if in...</td>\n",
       "      <td>EAP</td>\n",
       "      <td>[1, 3053, 8235, 345, 403, 16, 60, 7, 6, 7710]</td>\n",
       "      <td>10</td>\n",
       "    </tr>\n",
       "    <tr>\n",
       "      <th>id05267</th>\n",
       "      <td>Mais il faut agir that is to say, a Frenchman ...</td>\n",
       "      <td>EAP</td>\n",
       "      <td>[9569, 6070, 14459, 26379, 9, 25, 4, 125, 6, 3...</td>\n",
       "      <td>13</td>\n",
       "    </tr>\n",
       "    <tr>\n",
       "      <th>id17513</th>\n",
       "      <td>For an item of news like this, it strikes us i...</td>\n",
       "      <td>EAP</td>\n",
       "      <td>[17, 37, 4974, 2, 2797, 81, 26, 11, 9113, 85, ...</td>\n",
       "      <td>15</td>\n",
       "    </tr>\n",
       "    <tr>\n",
       "      <th>id00393</th>\n",
       "      <td>He laid a gnarled claw on my shoulder, and it ...</td>\n",
       "      <td>HPL</td>\n",
       "      <td>[14, 1236, 6, 5266, 5950, 27, 10, 1765, 3, 11,...</td>\n",
       "      <td>22</td>\n",
       "    </tr>\n",
       "  </tbody>\n",
       "</table>\n",
       "<p>19125 rows × 4 columns</p>\n",
       "</div>"
      ],
      "text/plain": [
       "                                                      text author  \\\n",
       "id                                                                  \n",
       "id26305  This process, however, afforded me no means of...    EAP   \n",
       "id17569  It never once occurred to me that the fumbling...    HPL   \n",
       "id11008  In his left hand was a gold snuff box, from wh...    EAP   \n",
       "id27763  How lovely is spring As we looked from Windsor...    MWS   \n",
       "id12958  Finding nothing else, not even gold, the Super...    HPL   \n",
       "id09674  The astronomer, perhaps, at this point, took r...    EAP   \n",
       "id13515        The surcingle hung in ribands from my body.    EAP   \n",
       "id00912  I confess that neither the structure of langua...    MWS   \n",
       "id16737  He shall find that I can feel my injuries; he ...    MWS   \n",
       "id16607  Here we barricaded ourselves, and, for the pre...    EAP   \n",
       "id19764  Herbert West needed fresh bodies because his l...    HPL   \n",
       "id18886  The farm like grounds extended back very deepl...    HPL   \n",
       "id17189   But a glance will show the fallacy of this idea.    EAP   \n",
       "id12799  He had escaped me, and I must commence a destr...    MWS   \n",
       "id08441  To these speeches they gave, of course, their ...    EAP   \n",
       "id13117  Her native sprightliness needed no undue excit...    MWS   \n",
       "id14862  I even went so far as to speak of a slightly h...    EAP   \n",
       "id20836  His facial aspect, too, was remarkable for its...    HPL   \n",
       "id11411  Now the net work was not permanently fastened ...    EAP   \n",
       "id08075  It was not that the sounds were hideous, for t...    HPL   \n",
       "id18925  On every hand was a wilderness of balconies, o...    EAP   \n",
       "id01704  These bizarre attempts at explanation were fol...    EAP   \n",
       "id10125  For many prodigies and signs had taken place, ...    EAP   \n",
       "id23451  I seemed to be upon the verge of comprehension...    EAP   \n",
       "id27907  Our compasses, depth gauges, and other delicat...    HPL   \n",
       "id08121  This the young warriors took back with them to...    HPL   \n",
       "id15222  Meantime the whole Paradise of Arnheim bursts ...    EAP   \n",
       "id00764  I was rich and young, and had a guardian appoi...    MWS   \n",
       "id00683  We could make out little by the dim light, but...    MWS   \n",
       "id11733               Even now They talked in Their tombs.    HPL   \n",
       "...                                                    ...    ...   \n",
       "id20955  But it was not so; I was the same in strength,...    MWS   \n",
       "id01270  He then took the book himself, and read me a c...    EAP   \n",
       "id22290  \"Adolphe Le Bon, clerk to Mignaud et Fils, dep...    EAP   \n",
       "id20272  But of the character of his remarks at the per...    EAP   \n",
       "id18082  He notes every variation of face as the play p...    EAP   \n",
       "id07976  They admitted they had been drunk, but both vo...    HPL   \n",
       "id26741  The rays of the newly risen sun poured in upon...    EAP   \n",
       "id26698  To the north on the craggy precipice a few pac...    EAP   \n",
       "id22265  The frauds of the banks of course I couldn't h...    EAP   \n",
       "id14778  He was attired, as I had expected, in a costum...    EAP   \n",
       "id18823  When a fumbling came in the nearer casements h...    HPL   \n",
       "id00893  But then there is the tone laconic, or curt, w...    EAP   \n",
       "id08678  Average people in society and business New Eng...    HPL   \n",
       "id10857  The modes and sources of this kind of error ar...    EAP   \n",
       "id10563  Yet from whom has not that rude hand rent away...    MWS   \n",
       "id11752  Almighty God no, no They heard they suspected ...    EAP   \n",
       "id26214  I hope you have not been so foolish as to take...    EAP   \n",
       "id00832  These reflections made our legislators pause, ...    MWS   \n",
       "id04187  Because there were some considerations of deep...    EAP   \n",
       "id22378  Before going in we walked up the street, turne...    EAP   \n",
       "id26790  Once my fancy was soothed with dreams of virtu...    MWS   \n",
       "id14263  Nay, you may have met with another whom you ma...    MWS   \n",
       "id14420  My watch was still going, and told me that the...    HPL   \n",
       "id03325  But these and other difficulties attending res...    EAP   \n",
       "id07567  Stress of weather drove us up the Adriatic Gul...    MWS   \n",
       "id17718  I could have fancied, while I looked at it, th...    EAP   \n",
       "id08973  The lids clenched themselves together as if in...    EAP   \n",
       "id05267  Mais il faut agir that is to say, a Frenchman ...    EAP   \n",
       "id17513  For an item of news like this, it strikes us i...    EAP   \n",
       "id00393  He laid a gnarled claw on my shoulder, and it ...    HPL   \n",
       "\n",
       "                                                    tokens  tokens_len  \n",
       "id                                                                      \n",
       "id26305  [26, 3334, 139, 1295, 22, 36, 285, 2, 6426, 1,...          41  \n",
       "id17569  [11, 90, 128, 725, 4, 22, 9, 1, 5966, 80, 28, ...          14  \n",
       "id11008  [7, 15, 154, 173, 8, 6, 694, 5967, 560, 24, 19...          36  \n",
       "id27763  [120, 568, 25, 766, 16, 34, 216, 24, 754, 4176...          34  \n",
       "id12958  [1229, 160, 735, 20, 75, 694, 1, 5214, 1464, 1...          27  \n",
       "id09674  [1, 8416, 237, 21, 26, 263, 214, 3102, 7, 1, 1...          21  \n",
       "id13515              [1, 9364, 698, 7, 18845, 24, 10, 225]           8  \n",
       "id00912  [5, 1689, 9, 484, 1, 2592, 2, 4644, 183, 1, 93...          23  \n",
       "id16737  [14, 140, 232, 9, 5, 118, 297, 10, 5970, 14, 1...          22  \n",
       "id16607    [124, 34, 14665, 1023, 3, 17, 1, 279, 29, 1657]          10  \n",
       "id19764  [3469, 389, 2877, 680, 880, 275, 15, 91, 340, ...          15  \n",
       "id18886  [1, 6940, 81, 2694, 1828, 168, 61, 1128, 66, 1...          15  \n",
       "id17189      [18, 6, 1007, 62, 1659, 1, 14666, 2, 26, 249]          10  \n",
       "id12799  [14, 12, 1141, 22, 3, 5, 84, 2695, 6, 5587, 3,...          47  \n",
       "id08441  [4, 67, 5972, 42, 207, 2, 247, 51, 111, 6428, ...          61  \n",
       "id13117  [30, 716, 18852, 2877, 36, 6430, 1157, 3, 30, ...          28  \n",
       "id14862  [5, 75, 233, 40, 137, 16, 4, 355, 2, 6, 1617, ...          48  \n",
       "id20836  [15, 7612, 1085, 132, 8, 867, 17, 47, 3471, 17...          48  \n",
       "id11411  [52, 1, 4902, 340, 8, 20, 7613, 2152, 4, 1, 49...          21  \n",
       "id08075  [11, 8, 20, 9, 1, 590, 29, 408, 17, 42, 29, 20...          44  \n",
       "id18925  [27, 101, 173, 8, 6, 3472, 2, 14668, 2, 18859,...          18  \n",
       "id01704  [67, 2698, 2210, 21, 1618, 29, 458, 23, 341, 1...          11  \n",
       "id10125  [17, 113, 7615, 3, 1356, 12, 310, 149, 3, 137,...          25  \n",
       "id23451  [5, 98, 4, 28, 44, 1, 3810, 2, 3336, 136, 286,...          31  \n",
       "id27907  [55, 18866, 1830, 18867, 3, 95, 1324, 1585, 29...          45  \n",
       "id08121  [26, 1, 238, 12204, 214, 168, 13, 63, 4, 2510,...          30  \n",
       "id15222  [1051, 1, 165, 2153, 2, 10616, 10617, 44, 1, 374]          10  \n",
       "id00764  [5, 8, 1052, 3, 238, 3, 12, 6, 3980, 4180, 17,...          43  \n",
       "id00683  [34, 46, 187, 74, 104, 23, 1, 1025, 158, 18, 4...          48  \n",
       "id11733                     [75, 52, 42, 950, 7, 51, 3474]           7  \n",
       "...                                                    ...         ...  \n",
       "id20955  [18, 11, 8, 20, 40, 5, 8, 1, 177, 7, 600, 7, 1...          22  \n",
       "id01270  [14, 65, 214, 1, 625, 150, 3, 370, 22, 6, 1591...          12  \n",
       "id22290  [16338, 1163, 6712, 6520, 4, 10126, 2687, 1602...          32  \n",
       "id20272  [18, 2, 1, 396, 2, 15, 6867, 21, 1, 4209, 7, 3...          19  \n",
       "id18082  [14, 1471, 101, 5577, 2, 235, 16, 1, 1132, 263...          30  \n",
       "id07976  [42, 1333, 42, 12, 43, 3846, 18, 288, 4066, 42...          21  \n",
       "id26741  [1, 1315, 2, 1, 3180, 3129, 293, 1755, 7, 44, ...          24  \n",
       "id26698  [4, 1, 549, 27, 1, 10222, 3443, 6, 156, 4512, ...          48  \n",
       "id22265       [1, 16734, 2, 1, 2024, 2, 247, 5, 3303, 686]          10  \n",
       "id14778  [14, 8, 8477, 16, 5, 12, 699, 7, 6, 5763, 469,...          33  \n",
       "id18823  [41, 6, 5966, 117, 7, 1, 1602, 9827, 14, 2421,...          25  \n",
       "id00893  [18, 65, 45, 25, 1, 977, 11897, 35, 17040, 19,...          16  \n",
       "id08678  [4205, 287, 7, 664, 3, 630, 184, 8609, 14587, ...          45  \n",
       "id10857  [1, 3832, 3, 4108, 2, 26, 266, 2, 2183, 56, 11...          19  \n",
       "id10563  [76, 24, 230, 108, 20, 9, 4584, 173, 3326, 179...          13  \n",
       "id11752  [7533, 372, 36, 36, 42, 143, 42, 1743, 42, 182...          25  \n",
       "id26214  [5, 251, 33, 31, 20, 43, 40, 4006, 16, 4, 234,...          23  \n",
       "id00832  [67, 1823, 92, 55, 18492, 1380, 69, 42, 46, 43...          18  \n",
       "id04187          [275, 45, 29, 54, 3452, 2, 262, 412, 202]           9  \n",
       "id22378  [69, 741, 7, 34, 835, 66, 1, 265, 276, 119, 37...          47  \n",
       "id26790  [128, 10, 544, 8, 3916, 13, 327, 2, 2074, 2, 3...          14  \n",
       "id14263  [2557, 33, 123, 31, 563, 13, 210, 230, 33, 123...          37  \n",
       "id14420  [10, 852, 8, 106, 741, 3, 228, 22, 9, 1, 305, ...          14  \n",
       "id03325  [18, 67, 3, 95, 4029, 2492, 4846, 16, 42, 29, ...          51  \n",
       "id07567  [11871, 2, 1450, 2529, 85, 66, 1, 26377, 9226,...          27  \n",
       "id17718  [5, 46, 31, 1055, 100, 5, 216, 21, 11, 9, 54, ...          20  \n",
       "id08973      [1, 3053, 8235, 345, 403, 16, 60, 7, 6, 7710]          10  \n",
       "id05267  [9569, 6070, 14459, 26379, 9, 25, 4, 125, 6, 3...          13  \n",
       "id17513  [17, 37, 4974, 2, 2797, 81, 26, 11, 9113, 85, ...          15  \n",
       "id00393  [14, 1236, 6, 5266, 5950, 27, 10, 1765, 3, 11,...          22  \n",
       "\n",
       "[19125 rows x 4 columns]"
      ]
     },
     "execution_count": 47,
     "metadata": {},
     "output_type": "execute_result"
    }
   ],
   "source": [
    "data_train"
   ]
  },
  {
   "cell_type": "code",
   "execution_count": null,
   "metadata": {
    "collapsed": true
   },
   "outputs": [],
   "source": []
  },
  {
   "cell_type": "code",
   "execution_count": 20,
   "metadata": {},
   "outputs": [
    {
     "ename": "SyntaxError",
     "evalue": "invalid syntax (<ipython-input-20-e8a2325424e9>, line 1)",
     "output_type": "error",
     "traceback": [
      "\u001b[1;36m  File \u001b[1;32m\"<ipython-input-20-e8a2325424e9>\"\u001b[1;36m, line \u001b[1;32m1\u001b[0m\n\u001b[1;33m    https://machinelearningmastery.com/use-word-embedding-layers-deep-learning-keras/\u001b[0m\n\u001b[1;37m         ^\u001b[0m\n\u001b[1;31mSyntaxError\u001b[0m\u001b[1;31m:\u001b[0m invalid syntax\n"
     ]
    }
   ],
   "source": []
  },
  {
   "cell_type": "code",
   "execution_count": 19,
   "metadata": {},
   "outputs": [
    {
     "data": {
      "text/plain": [
       "'It never once occurred to me that the fumbling might be a mere mistake.'"
      ]
     },
     "execution_count": 19,
     "metadata": {},
     "output_type": "execute_result"
    }
   ],
   "source": []
  },
  {
   "cell_type": "code",
   "execution_count": null,
   "metadata": {
    "collapsed": true
   },
   "outputs": [],
   "source": []
  },
  {
   "cell_type": "code",
   "execution_count": null,
   "metadata": {
    "collapsed": true
   },
   "outputs": [],
   "source": []
  },
  {
   "cell_type": "code",
   "execution_count": null,
   "metadata": {
    "collapsed": true
   },
   "outputs": [],
   "source": []
  },
  {
   "cell_type": "code",
   "execution_count": 52,
   "metadata": {
    "collapsed": true
   },
   "outputs": [],
   "source": [
    "encoded_train_binary_docs = tokenizer.texts_to_matrix(list(data_train['text']))"
   ]
  },
  {
   "cell_type": "code",
   "execution_count": 53,
   "metadata": {},
   "outputs": [
    {
     "data": {
      "text/plain": [
       "(19579, 29452)"
      ]
     },
     "execution_count": 53,
     "metadata": {},
     "output_type": "execute_result"
    }
   ],
   "source": [
    "encoded_train_binary_docs.shape"
   ]
  },
  {
   "cell_type": "code",
   "execution_count": 54,
   "metadata": {
    "collapsed": true
   },
   "outputs": [],
   "source": [
    "encoded_train_count_docs = tokenizer.texts_to_matrix(list(data_train['text']), mode='count')"
   ]
  },
  {
   "cell_type": "code",
   "execution_count": 55,
   "metadata": {},
   "outputs": [
    {
     "data": {
      "text/plain": [
       "(19579, 29452)"
      ]
     },
     "execution_count": 55,
     "metadata": {},
     "output_type": "execute_result"
    }
   ],
   "source": [
    "encoded_train_count_docs.shape"
   ]
  },
  {
   "cell_type": "code",
   "execution_count": 56,
   "metadata": {},
   "outputs": [
    {
     "data": {
      "text/plain": [
       "array([[ 0.,  4.,  3., ...,  0.,  0.,  0.],\n",
       "       [ 0.,  1.,  0., ...,  0.,  0.,  0.],\n",
       "       [ 0.,  2.,  2., ...,  0.,  0.,  0.],\n",
       "       ..., \n",
       "       [ 0.,  0.,  0., ...,  0.,  0.,  0.],\n",
       "       [ 0.,  0.,  1., ...,  0.,  0.,  0.],\n",
       "       [ 0.,  0.,  1., ...,  0.,  0.,  0.]])"
      ]
     },
     "execution_count": 56,
     "metadata": {},
     "output_type": "execute_result"
    }
   ],
   "source": [
    "encoded_train_count_docs"
   ]
  },
  {
   "cell_type": "code",
   "execution_count": 57,
   "metadata": {},
   "outputs": [
    {
     "data": {
      "text/plain": [
       "array([[ 0.,  1.,  1., ...,  0.,  0.,  0.],\n",
       "       [ 0.,  1.,  0., ...,  0.,  0.,  0.],\n",
       "       [ 0.,  1.,  1., ...,  0.,  0.,  0.],\n",
       "       ..., \n",
       "       [ 0.,  0.,  0., ...,  0.,  0.,  0.],\n",
       "       [ 0.,  0.,  1., ...,  0.,  0.,  0.],\n",
       "       [ 0.,  0.,  1., ...,  0.,  0.,  0.]])"
      ]
     },
     "execution_count": 57,
     "metadata": {},
     "output_type": "execute_result"
    }
   ],
   "source": [
    "encoded_train_binary_docs"
   ]
  },
  {
   "cell_type": "code",
   "execution_count": 58,
   "metadata": {},
   "outputs": [
    {
     "data": {
      "text/plain": [
       "'This process, however, afforded me no means of ascertaining the dimensions of my dungeon; as I might make its circuit, and return to the point whence I set out, without being aware of the fact; so perfectly uniform seemed the wall.'"
      ]
     },
     "execution_count": 58,
     "metadata": {},
     "output_type": "execute_result"
    }
   ],
   "source": [
    "data_train['text'][0]"
   ]
  },
  {
   "cell_type": "code",
   "execution_count": null,
   "metadata": {
    "collapsed": true
   },
   "outputs": [],
   "source": []
  }
 ],
 "metadata": {
  "anaconda-cloud": {},
  "kernelspec": {
   "display_name": "Python [Root]",
   "language": "python",
   "name": "Python [Root]"
  },
  "language_info": {
   "codemirror_mode": {
    "name": "ipython",
    "version": 3
   },
   "file_extension": ".py",
   "mimetype": "text/x-python",
   "name": "python",
   "nbconvert_exporter": "python",
   "pygments_lexer": "ipython3",
   "version": "3.5.2"
  }
 },
 "nbformat": 4,
 "nbformat_minor": 1
}
